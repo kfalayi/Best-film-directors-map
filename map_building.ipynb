{
 "cells": [
  {
   "cell_type": "code",
   "execution_count": null,
   "id": "c183fb14",
   "metadata": {
    "scrolled": true
   },
   "outputs": [],
   "source": [
    "import numpy as np\n",
    "import pandas as pd\n",
    "\n",
    "# df = pd.read_csv('movie_data_merged.csv')"
   ]
  },
  {
   "cell_type": "code",
   "execution_count": null,
   "id": "b851641c",
   "metadata": {},
   "outputs": [],
   "source": [
    "# df.to_csv(r'backup_merged.csv', index=False)"
   ]
  },
  {
   "cell_type": "code",
   "execution_count": null,
   "id": "14518862",
   "metadata": {
    "scrolled": true
   },
   "outputs": [],
   "source": [
    "df = pd.read_csv('backup_merged.csv')\n",
    "\n",
    "df.head()"
   ]
  },
  {
   "cell_type": "code",
   "execution_count": null,
   "id": "d8b0c284",
   "metadata": {},
   "outputs": [],
   "source": [
    "df.director_cn = df.director_cn.str.strip()\n"
   ]
  },
  {
   "cell_type": "code",
   "execution_count": null,
   "id": "ff0d105f",
   "metadata": {},
   "outputs": [],
   "source": [
    "df[df.director_cn == 'United States of America']\n"
   ]
  },
  {
   "cell_type": "code",
   "execution_count": null,
   "id": "0ea7863a",
   "metadata": {},
   "outputs": [],
   "source": [
    "# df.groupby(by='director').director_cn.value_counts()"
   ]
  },
  {
   "cell_type": "code",
   "execution_count": null,
   "id": "3b5727f0",
   "metadata": {},
   "outputs": [],
   "source": [
    "df = df[df.director_cn != 'United States of America']\n",
    "# df1.head(50)\n",
    "df"
   ]
  },
  {
   "cell_type": "code",
   "execution_count": null,
   "id": "28222efc",
   "metadata": {},
   "outputs": [],
   "source": [
    "df1 = df.drop(columns=['critic_name', 'critic_cn', 'critic_org', 'movie_name', 'movie_year', 'href', 'director_birthYr'])\n"
   ]
  },
  {
   "cell_type": "code",
   "execution_count": null,
   "id": "4a9a9f0b",
   "metadata": {},
   "outputs": [],
   "source": [
    "df1"
   ]
  },
  {
   "cell_type": "code",
   "execution_count": null,
   "id": "6d242f37",
   "metadata": {},
   "outputs": [],
   "source": [
    "df1 = df.groupby('director_cn')['director'].value_counts().reset_index(name='count')\n",
    "df1"
   ]
  },
  {
   "cell_type": "code",
   "execution_count": null,
   "id": "ec5c1b35",
   "metadata": {},
   "outputs": [],
   "source": []
  },
  {
   "cell_type": "code",
   "execution_count": null,
   "id": "00b2f209",
   "metadata": {},
   "outputs": [],
   "source": [
    "df1[\"string\"] = df1[\"director\"]+ \": \" +df1[\"count\"].map(str) + np.where(df1[\"count\"] >1, ' votes', ' vote')\n",
    "df1[\"string\"]"
   ]
  },
  {
   "cell_type": "code",
   "execution_count": null,
   "id": "e940200a",
   "metadata": {},
   "outputs": [],
   "source": [
    "# df1.sort_values(by=\"count\").tail(30)"
   ]
  },
  {
   "cell_type": "code",
   "execution_count": null,
   "id": "7fc534ae",
   "metadata": {
    "scrolled": true
   },
   "outputs": [],
   "source": [
    "output = df1.groupby('director_cn')['string'].apply(lambda x: \"<div id='director'><h1><b>Ratings of directors born outside the US</b></h1><P>%s</P></div>\" % '</p><p> '.join(x)).reset_index(name='properties.article')\n",
    "output\n",
    "                                                    \n",
    "                                                    \n",
    "                                                    "
   ]
  },
  {
   "cell_type": "code",
   "execution_count": null,
   "id": "ae75004f",
   "metadata": {},
   "outputs": [],
   "source": [
    "output.iloc[3]['properties.article']"
   ]
  },
  {
   "cell_type": "code",
   "execution_count": null,
   "id": "469237ff",
   "metadata": {
    "scrolled": true
   },
   "outputs": [],
   "source": [
    "dirs = df1.groupby('director_cn')['director'].nunique().reset_index(name='properties.headline')\n",
    "dirs"
   ]
  },
  {
   "cell_type": "code",
   "execution_count": null,
   "id": "3f85bbbb",
   "metadata": {},
   "outputs": [],
   "source": [
    "output = output.merge(dirs, how='left', on='director_cn')"
   ]
  },
  {
   "cell_type": "code",
   "execution_count": null,
   "id": "2c8367d2",
   "metadata": {
    "scrolled": true
   },
   "outputs": [],
   "source": [
    "output"
   ]
  },
  {
   "cell_type": "code",
   "execution_count": null,
   "id": "61fa8d84",
   "metadata": {},
   "outputs": [],
   "source": [
    "output['properties.headline'] = output['properties.headline'].map(str) + np.where(output['properties.headline'] >1, \" directors\", \" director\")\n",
    "\n"
   ]
  },
  {
   "cell_type": "code",
   "execution_count": null,
   "id": "3602864f",
   "metadata": {
    "scrolled": true
   },
   "outputs": [],
   "source": [
    "output"
   ]
  },
  {
   "cell_type": "code",
   "execution_count": null,
   "id": "a0fff42f",
   "metadata": {},
   "outputs": [],
   "source": [
    "output['properties.color'] = \"#ff6200\""
   ]
  },
  {
   "cell_type": "code",
   "execution_count": null,
   "id": "53eb4106",
   "metadata": {},
   "outputs": [],
   "source": [
    "output"
   ]
  },
  {
   "cell_type": "code",
   "execution_count": null,
   "id": "3645a49e",
   "metadata": {},
   "outputs": [],
   "source": []
  },
  {
   "cell_type": "code",
   "execution_count": null,
   "id": "b4ad39b1",
   "metadata": {
    "scrolled": true
   },
   "outputs": [],
   "source": [
    "\n",
    "import requests\n",
    "import json\n",
    "from pandas import json_normalize"
   ]
  },
  {
   "cell_type": "code",
   "execution_count": null,
   "id": "b187ddd0",
   "metadata": {},
   "outputs": [],
   "source": [
    "with open('custom.geo.json') as json_data:\n",
    "    geometry_data = json.load(json_data)"
   ]
  },
  {
   "cell_type": "code",
   "execution_count": null,
   "id": "cbf57fff",
   "metadata": {},
   "outputs": [],
   "source": [
    "df2 = pd.DataFrame.from_dict(json_normalize(geometry_data['features']),orient='columns')\n",
    "\n",
    "\n"
   ]
  },
  {
   "cell_type": "code",
   "execution_count": null,
   "id": "e46664ac",
   "metadata": {
    "scrolled": true
   },
   "outputs": [],
   "source": [
    "df2"
   ]
  },
  {
   "cell_type": "code",
   "execution_count": null,
   "id": "d6e1055d",
   "metadata": {},
   "outputs": [],
   "source": []
  },
  {
   "cell_type": "code",
   "execution_count": null,
   "id": "cca7739d",
   "metadata": {},
   "outputs": [],
   "source": [
    "output['properties.country'] = output['director_cn']\n",
    "output"
   ]
  },
  {
   "cell_type": "code",
   "execution_count": null,
   "id": "64b7340e",
   "metadata": {},
   "outputs": [],
   "source": [
    "df_new = pd.merge(output, df2, how=\"left\", left_on=\"properties.country\", right_on=\"properties.sovereignt\")\n"
   ]
  },
  {
   "cell_type": "code",
   "execution_count": null,
   "id": "b203cbab",
   "metadata": {
    "scrolled": true
   },
   "outputs": [],
   "source": [
    "\n",
    "df_new"
   ]
  },
  {
   "cell_type": "code",
   "execution_count": null,
   "id": "f6d28bf9",
   "metadata": {},
   "outputs": [],
   "source": [
    "df_new = df_new.dropna(subset=['geometry.coordinates'])"
   ]
  },
  {
   "cell_type": "code",
   "execution_count": null,
   "id": "36edf07b",
   "metadata": {},
   "outputs": [],
   "source": [
    "my_json = json.loads(df_new.to_json(orient='records'))\n"
   ]
  },
  {
   "cell_type": "code",
   "execution_count": null,
   "id": "3c2a97bc",
   "metadata": {
    "scrolled": true
   },
   "outputs": [],
   "source": [
    "my_json\n"
   ]
  },
  {
   "cell_type": "code",
   "execution_count": null,
   "id": "fbabdff9",
   "metadata": {},
   "outputs": [],
   "source": [
    "def process_to_geojson(file):\n",
    "    geo_data = {\"type\": \"FeatureCollection\", \"features\":[]}\n",
    "    for row in file:\n",
    "        this_dict = {\"type\": \"Feature\", \"properties\":{}, \"geometry\": {}}\n",
    "        for key, value in row.items():\n",
    "            key_names = key.split('.')\n",
    "            if key_names[0] == 'geometry':\n",
    "                this_dict['geometry'][key_names[1]] = value\n",
    "            if str(key_names[0]) == 'properties':\n",
    "                this_dict['properties'][key_names[1]] = value\n",
    "        geo_data['features'].append(this_dict)\n",
    "    return geo_data\n"
   ]
  },
  {
   "cell_type": "code",
   "execution_count": null,
   "id": "8e28b5af",
   "metadata": {},
   "outputs": [],
   "source": [
    "geo_format = process_to_geojson(my_json)"
   ]
  },
  {
   "cell_type": "code",
   "execution_count": null,
   "id": "f9de1ecb",
   "metadata": {},
   "outputs": [],
   "source": [
    "geo_format"
   ]
  },
  {
   "cell_type": "code",
   "execution_count": null,
   "id": "ee86eafb",
   "metadata": {},
   "outputs": [],
   "source": [
    "with open('geo-data12-3.js', 'w') as outfile:\n",
    "    outfile.write(\"var infoData = \")\n",
    "#geojson output\n",
    "with open('geo-data12-3.js', 'a') as outfile:\n",
    "    json.dump(geo_format, outfile)"
   ]
  },
  {
   "cell_type": "code",
   "execution_count": null,
   "id": "22ad858b",
   "metadata": {},
   "outputs": [],
   "source": []
  }
 ],
 "metadata": {
  "kernelspec": {
   "display_name": "Python 3 (ipykernel)",
   "language": "python",
   "name": "python3"
  },
  "language_info": {
   "codemirror_mode": {
    "name": "ipython",
    "version": 3
   },
   "file_extension": ".py",
   "mimetype": "text/x-python",
   "name": "python",
   "nbconvert_exporter": "python",
   "pygments_lexer": "ipython3",
   "version": "3.9.7"
  }
 },
 "nbformat": 4,
 "nbformat_minor": 5
}
